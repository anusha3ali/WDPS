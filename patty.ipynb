{
 "cells": [
  {
   "cell_type": "code",
   "execution_count": 4,
   "id": "8050b776",
   "metadata": {},
   "outputs": [],
   "source": [
    "import spacy\n",
    "import spacy_transformers\n",
    "from spacy.matcher import Matcher\n",
    "import networkx as nx\n",
    "import stanza\n",
    "import spacy_stanza\n",
    "from spacy.pipeline import merge_entities\n",
    "from itertools import combinations\n",
    "import csv\n",
    "import datetime"
   ]
  },
  {
   "cell_type": "markdown",
   "id": "89e788f3",
   "metadata": {},
   "source": [
    "## Shortest path with Spacy"
   ]
  },
  {
   "cell_type": "code",
   "execution_count": 5,
   "id": "1ecae545",
   "metadata": {},
   "outputs": [
    {
     "data": {
      "text/plain": [
       "<function spacy.pipeline.functions.merge_entities(doc: spacy.tokens.doc.Doc)>"
      ]
     },
     "execution_count": 5,
     "metadata": {},
     "output_type": "execute_result"
    }
   ],
   "source": [
    "nlp = spacy_stanza.load_pipeline(\"en\", verbose=False)\n",
    "nlp.add_pipe(\"merge_entities\")\n",
    "# nlp.add_pipe(\"merge_noun_chunks\")"
   ]
  },
  {
   "cell_type": "code",
   "execution_count": 6,
   "id": "4b3efb0b",
   "metadata": {},
   "outputs": [],
   "source": [
    "# nlp = spacy.load(\"en_core_web_trf\", disable=[\"textcat\"])\n",
    "# nlp.add_pipe(\"merge_entities\")"
   ]
  },
  {
   "cell_type": "code",
   "execution_count": 14,
   "id": "f340cd4a",
   "metadata": {
    "scrolled": true
   },
   "outputs": [],
   "source": [
    "sample_sentences = [\n",
    "    'Robots in popular culture are there to remind us of the awesomeness of unbound human agency.',\n",
    "    \"Amsterdam is the capital and largest city in the European country of the Netherlands.\",\n",
    "    \"Amsterdam is refered to as the 'Venice of the North'.\",\n",
    "    \"Located in North-Holland, Amsterdam is the capital of the Netherlands.\",\n",
    "    \"The city hosts two universities (Vrije University and University of Amsterdam) and an international airport 'Schiphol Airport' built in 1923.\",\n",
    "    \"Winehouse effortlessly performed her song Rehab\",\n",
    "    \"Google will join Meta and Amazon.\",\n",
    "    \"Elon Musk founded Tesla and Bill Gates founded Microsoft.\",\n",
    "    \"Google joined other tech compnaies like Mcsoft and Amazon.\",\n",
    "    \"Michael is a parent of James.\",\n",
    "    \"The Obama administration is offering only modest greenhouse gas reduction targets at the conference.\",\n",
    "    \"Amsterdam Building is in the Netherlands.\",\n",
    "    \"The only diplomatic offices present in Amsterdam are consulates.\",\n",
    "    \"Unlike in capitals of most other countries, the national government, parliament, government ministries, supreme court, royal family and embassies are not in Amsterdam, but in The Hague. \",\n",
    "    \"WP Cumulus Flash tag cloud by Roy Tanck and Luke Morton requires Flash Player 9 or better.\"\n",
    "]"
   ]
  },
  {
   "cell_type": "code",
   "execution_count": 17,
   "id": "07be262b",
   "metadata": {},
   "outputs": [
    {
     "name": "stdout",
     "output_type": "stream",
     "text": [
      "Amsterdam is the capital and largest city in the European country of the Netherlands.\n"
     ]
    }
   ],
   "source": [
    "document = nlp(sample_sentences[1])\n",
    "\n",
    "print(document)\n",
    "\n",
    "edges = []\n",
    "for token in document:\n",
    "    for child in token.children:\n",
    "        edges.append((token, child))\n",
    "\n",
    "graph = nx.Graph(edges)"
   ]
  },
  {
   "cell_type": "code",
   "execution_count": 18,
   "id": "3a3431f7",
   "metadata": {
    "scrolled": true
   },
   "outputs": [
    {
     "name": "stdout",
     "output_type": "stream",
     "text": [
      " 0 - Amsterdam                      PROPN      NNP        nsubj     \n",
      " 1 - is                             AUX        VBZ        cop       \n",
      " 2 - the                            DET        DT         det       \n",
      " 3 - capital                        NOUN       NN         root      \n",
      " 4 - and                            CCONJ      CC         cc        \n",
      " 5 - largest                        ADJ        JJS        amod      \n",
      " 6 - city                           NOUN       NN         conj      \n",
      " 7 - in                             ADP        IN         case      \n",
      " 8 - the                            DET        DT         det       \n",
      " 9 - European                       ADJ        JJ         amod      \n",
      "10 - country                        NOUN       NN         nmod      \n",
      "11 - of                             ADP        IN         case      \n",
      "12 - the                            DET        DT         det       \n",
      "13 - Netherlands                    PROPN      NNPS       nmod      \n",
      "14 - .                              PUNCT      .          punct     \n"
     ]
    }
   ],
   "source": [
    "for i, token in enumerate(document):\n",
    "    print(f\"{i:2} - {token.text:30} {token.pos_:10} {token.tag_:10} {token.dep_:10}\")"
   ]
  },
  {
   "cell_type": "code",
   "execution_count": 10,
   "id": "644d9dd8",
   "metadata": {
    "scrolled": false
   },
   "outputs": [
    {
     "data": {
      "image/png": "[encoded data removed]",
      "text/plain": [
       "<Figure size 640x480 with 1 Axes>"
      ]
     },
     "metadata": {},
     "output_type": "display_data"
    }
   ],
   "source": [
    "nx.draw(graph, with_labels = True, alpha=0.6, )"
   ]
  },
  {
   "cell_type": "code",
   "execution_count": 16,
   "id": "04b66a22",
   "metadata": {},
   "outputs": [],
   "source": [
    "no_pos = {\"AUX\"}\n",
    "no_dep = set()\n",
    "no_dep = {\"dobj\", 'nsubj', 'probj', 'conj'}\n",
    "\n",
    "def extract_relations_1(doc):\n",
    "    relations = []\n",
    "    ents = doc.ents\n",
    "    ents_pairs = [(e1, e2) for e1, e2 in list(combinations(ents, 2))]\n",
    "#     ents_pairs = [(e1, e2) for e1, e2 in list(combinations(ents, 2)) if (ents.index(e1) - ents.index(e2) < 3)]\n",
    "    edges = []\n",
    "    \n",
    "    for token in doc:\n",
    "        for child in token.children:\n",
    "            edges.append((token, child))\n",
    "    graph = nx.Graph(edges)\n",
    "    \n",
    "    for e1, e2 in ents_pairs:\n",
    "        verb, noun = 0, 0\n",
    "        path = nx.shortest_path(graph, source=doc[e1.start-doc.start], target=doc[e2.start-doc.start])\n",
    "#         print('+', path)\n",
    "        path = path[1:-1]\n",
    "#         print(e1, ',', e2)\n",
    "#         print([(t.text, t.pos_, t.dep_) for t in path])\n",
    "        for t in path:\n",
    "            if t.pos_ == \"VERB\":\n",
    "                verb += 1\n",
    "            elif t.pos_ in {\"NOUN\", \"PROPN\"}:\n",
    "                noun += 1\n",
    "        if verb > 1 or noun > 1 or (len(path) == noun):\n",
    "            continue\n",
    "        path = [t for t in path if t.pos_ not in no_pos \n",
    "                                and not t.ent_type \n",
    "                                and not (t.pos_ == \"NOUN\" and t.dep_ in no_dep)]\n",
    "        \n",
    "        if not len(path):\n",
    "            continue\n",
    "        if path[0].dep_ == \"prep\":\n",
    "            path = path[::-1]\n",
    "        relations.append((e1, ' '.join([t.text for t in path]).lower(), e2))\n",
    "    return relations"
   ]
  },
  {
   "cell_type": "code",
   "execution_count": 17,
   "id": "1c1072ae",
   "metadata": {},
   "outputs": [
    {
     "name": "stdout",
     "output_type": "stream",
     "text": [
      "Amsterdam - refered - the 'Venice of the North'\n",
      "North-Holland - located capital - Amsterdam\n",
      "North-Holland - located capital - Netherlands\n",
      "'Schiphol Airport' - built - 1923\n",
      "Winehouse - performed - Rehab\n",
      "Google - join - Meta\n",
      "Google - join - Amazon\n",
      "Elon Musk - founded - Tesla\n",
      "Elon Musk - founded - Bill Gates\n",
      "Google - joined compnaies - Msoft\n",
      "WP Cumulus Flash - requires - Flash Player 9\n",
      "Roy Tanck - requires - Flash Player 9\n",
      "CPU times: user 5.73 s, sys: 417 ms, total: 6.14 s\n",
      "Wall time: 5.52 s\n"
     ]
    }
   ],
   "source": [
    "%%time\n",
    "a = 0\n",
    "for sentence in sample_sentences:\n",
    "    s = [s for s in nlp(sentence).sents][0]\n",
    "    rs = extract_relations_1(s)\n",
    "    a += len(rs)\n",
    "    for e1, r, e2 in rs:\n",
    "        print(f\"{e1} - {r} - {e2}\")"
   ]
  },
  {
   "cell_type": "code",
   "execution_count": 10,
   "id": "e853a27a",
   "metadata": {},
   "outputs": [],
   "source": [
    "pattern = [\n",
    "[\n",
    "    {\"POS\": \"VERB\"},\n",
    "    {\"POS\": \"PART\", \"OP\": \"?\"},\n",
    "    {\"POS\": \"ADV\",  \"OP\": \"?\"},\n",
    "    {\"POS\": {\"IN\": [\"ADJ\", \"ADV\", \"PRON\", \"DET\"]}, \"OP\": \"*\"},\n",
    "    {\"POS\": {\"IN\": [\"PART\", \"ADP\"]}, \"OP\": \"?\"}    \n",
    "],\n",
    "[\n",
    "    {\"POS\": \"NOUN\"},\n",
    "    {\"DEP\": \"prep\"}    \n",
    "]\n",
    "]\n",
    "matcher = Matcher(nlp.vocab)\n",
    "matcher.add(\"pattern\", pattern)"
   ]
  },
  {
   "cell_type": "code",
   "execution_count": 11,
   "id": "fae99b5a",
   "metadata": {},
   "outputs": [],
   "source": [
    "no_pos = {\"AUX\"}\n",
    "# no_dep = {\"dobj\", 'nsubj', 'probj', 'conj'}\n",
    "no_dep = set()\n",
    "\n",
    "def extract_relations_2(doc):\n",
    "    relations = []\n",
    "    ents = doc.ents\n",
    "    ents_pairs = [(e1, e2) for e1, e2 in list(combinations(ents, 2))]\n",
    "    ents_pairs = [(e1, e2) for e1, e2 in list(combinations(ents, 2)) if (ents.index(e1) - ents.index(e2) < 3)]\n",
    "    edges = []\n",
    "    \n",
    "    for token in doc:\n",
    "        for child in token.children:\n",
    "            edges.append((token, child))\n",
    "    graph = nx.Graph(edges)\n",
    "    \n",
    "    for e1, e2 in ents_pairs:\n",
    "        verb, noun = 0, 0\n",
    "        path = nx.shortest_path(graph, source=doc[e1.start-doc.start], target=doc[e2.start-doc.start])\n",
    "        path = path[1:-1]\n",
    "        \n",
    "        if not len(path):\n",
    "            continue\n",
    "        \n",
    "        for t in path:\n",
    "            if t.pos_ == \"VERB\":\n",
    "                verb += 1\n",
    "            elif t.pos_ == \"NOUN\":\n",
    "                noun += 1\n",
    "        if verb > 1 or noun > 1:\n",
    "            continue\n",
    "        \n",
    "        if path[0].dep_ == \"prep\":\n",
    "            path = path[::-1] \n",
    "            \n",
    "        path_string = ' '.join([t.text for t in path])\n",
    "        path_doc = nlp(path_string)\n",
    "#         print(e1, ',', e2)\n",
    "#         print([(t.text, t.pos_, t.dep_) for t in path_doc])\n",
    "        matches = matcher(path_doc)\n",
    "        spans = [path_doc[start:end] for _, start, end in matches]\n",
    "#         print(spans)\n",
    "        spans = spacy.util.filter_spans(spans)\n",
    "#         print(path_string)\n",
    "#         print(spans)\n",
    "#         if len(spans):\n",
    "#             print(f\"-> {e1} - {spans[0]} - {e2}\")\n",
    "        if len(spans) > 0:\n",
    "            relations.append((e1, spans[0], e2))\n",
    "#         print('-'*10)\n",
    "    return relations"
   ]
  },
  {
   "cell_type": "code",
   "execution_count": 167,
   "id": "57e186da",
   "metadata": {
    "scrolled": false
   },
   "outputs": [
    {
     "name": "stdout",
     "output_type": "stream",
     "text": [
      "European - country of - Netherlands\n",
      "Amsterdam - refered as - the 'Venice of the North\n",
      "North-Holland - Located in - Amsterdam\n",
      "North-Holland - Located in - Netherlands\n",
      "Amsterdam - capital of - Netherlands\n",
      "'Schiphol Airport' - built in - 1923\n",
      "Winehouse - performed - Rehab\n",
      "Google - join - Meta\n",
      "Google - join - Amazon\n",
      "Elon Musk - founded - Tesla\n",
      "Bill Gates - founded - Microsoft\n",
      "Google - joined - Msoft\n",
      "Google - joined - Ama\n",
      "Michael - parent of - James\n",
      "WP - cloud by - Roy Tanck\n",
      "WP - cloud by - Luke Morton\n",
      "WP - requires - Flash Player 9\n",
      "Cumulus - cloud by - Roy Tanck\n",
      "Cumulus - cloud by - Luke Morton\n",
      "Cumulus - requires - Flash Player 9\n",
      "Roy Tanck - requires - Flash Player 9\n",
      "Luke Morton - requires - Flash Player 9\n",
      "CPU times: user 1.37 s, sys: 345 ms, total: 1.72 s\n",
      "Wall time: 1.51 s\n"
     ]
    }
   ],
   "source": [
    "%%time\n",
    "for sentence in sample_sentences:\n",
    "    s = [s for s in nlp(sentence).sents][0]\n",
    "    rs = extract_relations_2(s)\n",
    "    for e1, r, e2 in rs:\n",
    "        print(f\"{e1} - {r} - {e2}\")"
   ]
  },
  {
   "cell_type": "code",
   "execution_count": 169,
   "id": "85aced82",
   "metadata": {
    "collapsed": true
   },
   "outputs": [
    {
     "name": "stdout",
     "output_type": "stream",
     "text": [
      "20\n",
      "40\n",
      "60\n",
      "80\n",
      "100\n",
      "120\n",
      "140\n",
      "160\n",
      "180\n",
      "200\n",
      "220\n",
      "240\n",
      "260\n",
      "280\n",
      "300\n",
      "320\n",
      "340\n",
      "360\n",
      "380\n",
      "400\n",
      "420\n",
      "440\n",
      "460\n",
      "480\n",
      "500\n",
      "520\n",
      "540\n",
      "560\n",
      "580\n",
      "600\n",
      "620\n",
      "640\n",
      "660\n",
      "680\n",
      "700\n",
      "720\n",
      "740\n",
      "760\n",
      "780\n",
      "800\n",
      "820\n",
      "840\n",
      "860\n",
      "880\n",
      "900\n",
      "920\n",
      "940\n",
      "960\n",
      "980\n",
      "1000\n",
      "1020\n",
      "1040\n",
      "1060\n",
      "1080\n",
      "1100\n",
      "1120\n",
      "1140\n",
      "1160\n",
      "1180\n",
      "1200\n",
      "1220\n"
     ]
    },
    {
     "name": "stderr",
     "output_type": "stream",
     "text": [
      "Token indices sequence length is longer than the specified maximum sequence length for this model (531 > 512). Running this sequence through the model will result in indexing errors\n"
     ]
    },
    {
     "name": "stdout",
     "output_type": "stream",
     "text": [
      "1240\n",
      "1260\n",
      "1280\n",
      "1300\n",
      "1320\n",
      "1340\n",
      "1360\n",
      "CPU times: user 29min 25s, sys: 3min 27s, total: 32min 52s\n",
      "Wall time: 19min 13s\n"
     ]
    }
   ],
   "source": [
    "%%time\n",
    "filename = \"pre-proc/warcs-20221210-141217.csv\"\n",
    "rows = []\n",
    "\n",
    "with open(filename, newline='') as file:\n",
    "    csv_reader = csv.reader(file, quoting=csv.QUOTE_NONE, escapechar='\\\\')\n",
    "    c = 0\n",
    "    for row in csv_reader:\n",
    "        document = nlp(row[-1])\n",
    "        sentences = [s for s in document.sents]\n",
    "        for sentence in sentences:\n",
    "            relations = extract_relations_2(sentence)\n",
    "            for e1, r, e2 in relations:\n",
    "                rows.append((row[0], sentence, f\"{e1}-{r}-{e2}\"))\n",
    "        if (c := c + 1) % 20 == 0:\n",
    "            print(c)"
   ]
  },
  {
   "cell_type": "code",
   "execution_count": 171,
   "id": "05775de9",
   "metadata": {},
   "outputs": [],
   "source": [
    "filename = f'relation-patty-{datetime.datetime.now().strftime(\"%Y%m%d-%H%M%S\")}'\n",
    "res_directory = \"relations\"\n",
    "\n",
    "with open(f\"{res_directory}/{filename}.csv\", 'w', newline='', encoding='UTF-8') as file:\n",
    "        writer = csv.writer(file)\n",
    "        writer.writerows([row for row in rows])"
   ]
  },
  {
   "cell_type": "code",
   "execution_count": null,
   "id": "777a732d",
   "metadata": {},
   "outputs": [],
   "source": []
  }
 ],
 "metadata": {
  "kernelspec": {
   "display_name": "Python 3",
   "language": "python",
   "name": "python3"
  },
  "language_info": {
   "codemirror_mode": {
    "name": "ipython",
    "version": 3
   },
   "file_extension": ".py",
   "mimetype": "text/x-python",
   "name": "python",
   "nbconvert_exporter": "python",
   "pygments_lexer": "ipython3",
   "version": "3.8.9"
  },
  "vscode": {
   "interpreter": {
    "hash": "31f2aee4e71d21fbe5cf8b01ff0e069b9275f58929596ceb00d14d90e3e16cd6"
   }
  }
 },
 "nbformat": 4,
 "nbformat_minor": 5
}
