{
 "cells": [
  {
   "cell_type": "code",
   "execution_count": 14,
   "metadata": {},
   "outputs": [],
   "source": [
    "import spacy\n",
    "import spacy_transformers\n",
    "import spacy_dbpedia_spotlight\n",
    "import csv"
   ]
  },
  {
   "cell_type": "code",
   "execution_count": 5,
   "metadata": {},
   "outputs": [
    {
     "data": {
      "text/plain": [
       "<spacy_dbpedia_spotlight.entity_linker.EntityLinker at 0x28a045940>"
      ]
     },
     "execution_count": 5,
     "metadata": {},
     "output_type": "execute_result"
    }
   ],
   "source": [
    "nlp = spacy.load(\"en_core_web_trf\", disable=[\"tagger\", \"attribute_ruler\", \"lemmatizer\"])\n",
    "nlp.add_pipe('dbpedia_spotlight')"
   ]
  },
  {
   "cell_type": "code",
   "execution_count": 20,
   "metadata": {
    "scrolled": true
   },
   "outputs": [
    {
     "name": "stdout",
     "output_type": "stream",
     "text": [
      "Entities [('famous food', 'DBPEDIA_ENT', 'http://dbpedia.org/resource/Famous_Food'), ('Amsterdam', 'DBPEDIA_ENT', 'http://dbpedia.org/resource/Amsterdam')]\n",
      "{'@URI': 'http://dbpedia.org/resource/Amsterdam', '@support': '34914', '@types': 'Wikidata:Q515,Wikidata:Q486972,Schema:Place,Schema:City,DBpedia:Settlement,DBpedia:PopulatedPlace,DBpedia:Place,DBpedia:Location,DBpedia:City', '@surfaceForm': 'Amsterdam', '@offset': '46', '@similarityScore': '0.999911330184854', '@percentageOfSecondRank': '4.053290758644644E-5'}\n"
     ]
    }
   ],
   "source": [
    "doc = nlp(\"Amsterdam, located in North-Holland, is the capital of the Netherlands.\")\n",
    "doc = nlp(\"Chicken is the most famous food ingredient in Amsterdam.\")\n",
    "\n",
    "print('Entities', [(ent.text, ent.label_, ent.kb_id_) for ent in doc.ents])\n",
    "print(doc.ents[1]._.dbpedia_raw_result)"
   ]
  },
  {
   "cell_type": "code",
   "execution_count": 15,
   "metadata": {},
   "outputs": [],
   "source": [
    "def _load_proc_files_from_csv(file_path):\n",
    "    with open(file_path, newline='', encoding='UTF-8') as file:\n",
    "        csv_reader = csv.reader(file, quoting=csv.QUOTE_NONE, escapechar='\\\\')\n",
    "        return [row for row in csv_reader]"
   ]
  },
  {
   "cell_type": "code",
   "execution_count": 16,
   "metadata": {},
   "outputs": [],
   "source": [
    "rows = _load_proc_files_from_csv(\"pre-proc/warcs-20221210-141217.csv\")"
   ]
  },
  {
   "cell_type": "code",
   "execution_count": 17,
   "metadata": {},
   "outputs": [
    {
     "data": {
      "text/plain": [
       "1368"
      ]
     },
     "execution_count": 17,
     "metadata": {},
     "output_type": "execute_result"
    }
   ],
   "source": [
    "len(rows)"
   ]
  },
  {
   "cell_type": "code",
   "execution_count": null,
   "metadata": {},
   "outputs": [],
   "source": [
    "entities = []\n",
    "\n",
    "for key, _, _, text in rows:\n",
    "    doc = nlp(text).ents\n",
    "    for ent in doc.ents:\n",
    "        print(f\"ENTITY: {key}\\t{ent.text}\\t{ent.kb_id_}\")\n",
    "#     entities.extend([\n",
    "#         f\"ENTITY: {key}\\t{ent.text}\\t{ent.kb_id_}\"\n",
    "#     ])"
   ]
  }
 ],
 "metadata": {
  "kernelspec": {
   "display_name": "Python 3 (ipykernel)",
   "language": "python",
   "name": "python3"
  },
  "language_info": {
   "codemirror_mode": {
    "name": "ipython",
    "version": 3
   },
   "file_extension": ".py",
   "mimetype": "text/x-python",
   "name": "python",
   "nbconvert_exporter": "python",
   "pygments_lexer": "ipython3",
   "version": "3.8.9"
  },
  "vscode": {
   "interpreter": {
    "hash": "31f2aee4e71d21fbe5cf8b01ff0e069b9275f58929596ceb00d14d90e3e16cd6"
   }
  }
 },
 "nbformat": 4,
 "nbformat_minor": 2
}
